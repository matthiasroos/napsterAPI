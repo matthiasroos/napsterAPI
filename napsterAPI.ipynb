{
 "cells": [
  {
   "cell_type": "code",
   "execution_count": null,
   "metadata": {},
   "outputs": [],
   "source": [
    "import datetime\n",
    "import json\n",
    "import os\n",
    "import pandas as pd\n",
    "import requests"
   ]
  },
  {
   "cell_type": "code",
   "execution_count": null,
   "metadata": {},
   "outputs": [],
   "source": [
    "class NapsterAPIcall():\n",
    "\n",
    "    API_URL = 'https://api.napster.com/'\n",
    "    API_VERSION = 'v2.2'\n",
    "    API_KEY = os.environ['napster_API_KEY']\n",
    "    API_SECRET = os.environ['napster_API_SECRET']\n",
    "    \n",
    "    user = os.environ['napster_user']\n",
    "    password = os.environ['napster_password']\n",
    "    \n",
    "    headers = None\n",
    "    \n",
    "    def __init__(self):\n",
    "        print('init')\n",
    "    \n",
    "    def login(self):\n",
    "        # Login\n",
    "        OAUTH_URL =  self.API_URL + 'oauth/token'\n",
    "        params = (self.API_KEY, self.API_SECRET)\n",
    "        data = {\n",
    "            'username': self.user,\n",
    "            'password': self.password,\n",
    "            'grant_type': 'password'\n",
    "            }\n",
    "        response_login = requests.post(url = OAUTH_URL, auth = params, data = data)\n",
    "        tokens = json.loads(response_login.text)\n",
    "        self.headers = {'Authorization': 'Bearer ' + tokens['access_token']}\n",
    "        \n",
    "        return response_login.status_code\n",
    "    \n",
    "\n",
    "    def fetchAccountInfo(self):\n",
    "    # Account Information\n",
    "        response = requests.get(url = self.API_URL + self.API_VERSION + '/me/account', headers = self.headers)\n",
    "        return(response)\n",
    "\n",
    "    def _fetchFavoriteTracks(self, offset):\n",
    "    # Favorite Tracks\n",
    "        params = {'limit': 200, 'offset': offset, 'filter': 'track'}\n",
    "        response = requests.get(url = self.API_URL + self.API_VERSION + '/me/favorites', headers = self.headers, params = params)\n",
    "        #file = open(\"favorites.json\",\"w+\")\n",
    "        #file.write(response.text)\n",
    "        #file.close()\n",
    "        return response.status_code, json.loads(response.text)\n",
    "    \n",
    "    def fetchFavorites(self):\n",
    "    # All Favorite Tracks\n",
    "        columns = ['artist', 'title', 'streamable']\n",
    "        favorites_df = pd.DataFrame(columns = columns)\n",
    "        ind = 0\n",
    "        while(True):\n",
    "            code, favorites = self._fetchFavoriteTracks(offset = ind*200)\n",
    "            if code == 200:\n",
    "                #print(favorites_tracks)\n",
    "                favorites_tracks = favorites['favorites']['data']['tracks']\n",
    "                for item in favorites_tracks:\n",
    "                    title, artist, streamable = self.extractFromList(item)\n",
    "                    favorites_df = favorites_df.append(pd.DataFrame(data = [[artist, title, streamable]], \n",
    "                                                            columns = columns), ignore_index = True)\n",
    "                # test for end of list\n",
    "                lim = favorites['meta']['query']['limit']\n",
    "                off = favorites['meta']['query']['offset']\n",
    "                if favorites['meta']['totalCount'] <= (off * 200 + lim):\n",
    "                    break\n",
    "                \n",
    "                ind += 1\n",
    "            else:\n",
    "                print('something went wrong!')\n",
    "                return\n",
    "        \n",
    "        return favorites_df\n",
    "    \n",
    "    def extractFromList(self, item):\n",
    "        title = item['name']\n",
    "        artist = item['artistName']\n",
    "        streamable = item['isStreamable']\n",
    "        return title, artist, streamable\n",
    "    \n",
    "    def fetchfromLibrary(self, item, subitem = None):\n",
    "        itemstr = ''\n",
    "        if subitem is None:\n",
    "            itemstr = item\n",
    "        else:\n",
    "            itemstr = item + '/' + subitem\n",
    "        params = {'limit': 200, 'offset': 0}\n",
    "        response = requests.get(url = self.API_URL + self.API_VERSION + '/me/library/' + itemstr, \n",
    "                                headers = self.headers, params = params)\n",
    "        return response.status_code, json.loads(response.text)\n",
    "    \n",
    "    def fetchPlaylist(self, playlist):\n",
    "        tracks_list = []\n",
    "        code, response = apicall.fetchfromLibrary(item = 'playlists', subitem = playlist + '/tracks')\n",
    "        for item in response['tracks']:\n",
    "            title, artist, streamable = apicall.extractFromList(item)\n",
    "            tracks_list.append([title, artist, streamable])\n",
    "        \n",
    "        tracks_df = pd.DataFrame(tracks_list, columns=['title', 'artist', 'streamable'])\n",
    "        return tracks_df\n",
    "        \n",
    "        "
   ]
  },
  {
   "cell_type": "code",
   "execution_count": null,
   "metadata": {},
   "outputs": [],
   "source": []
  },
  {
   "cell_type": "code",
   "execution_count": null,
   "metadata": {},
   "outputs": [],
   "source": [
    "def downloadCurrentFavorites():\n",
    "    favorites_df = apicall.fetchFavorites()\n",
    "    now = datetime.datetime.now().strftime('%Y-%m-%d')\n",
    "    favorites_df.to_csv('favorites_' + now + '.csv', index = 0)\n",
    "\n",
    "def checkAllPlaylists():\n",
    "    code, response = apicall.fetchfromLibrary(item = 'playlists')\n",
    "    listPlaylist = [[item['id'], item['name']] for item in response['playlists']]\n",
    "    columns = ['playlist','artist', 'title', 'streamable']\n",
    "    unstream_tracks_df = pd.DataFrame(columns = columns)\n",
    "    for listitem in listPlaylist:\n",
    "        code, response = apicall.fetchfromLibrary(item = 'playlists', subitem = listitem[0] + '/tracks')\n",
    "        for item in response['tracks']:\n",
    "            title, artist, streamable = apicall.extractFromList(item)\n",
    "            if not streamable:\n",
    "                unstream_tracks_df = unstream_tracks_df.append(pd.DataFrame(data = [[listitem[1], artist, title, streamable]], \n",
    "                                                                            columns = columns), ignore_index = True)\n",
    "        #print(response)\n",
    "    now = datetime.datetime.now().strftime('%Y-%m-%d')\n",
    "    unstream_tracks_df.to_csv('unstreamTracks_playlists_' + now + '.csv', index = 0)\n",
    "    return unstream_tracks_df"
   ]
  },
  {
   "cell_type": "code",
   "execution_count": null,
   "metadata": {},
   "outputs": [],
   "source": [
    "apicall = NapsterAPIcall()\n",
    "apicall.login()\n",
    "\n",
    "#resp = apicall.fetchAccountInfo()\n",
    "#print(resp.status_code)\n",
    "\n",
    "downloadCurrentFavorites()\n",
    "\n"
   ]
  },
  {
   "cell_type": "code",
   "execution_count": null,
   "metadata": {},
   "outputs": [],
   "source": [
    "nonstreamabletracks = checkAllPlaylists()\n",
    "print(nonstreamabletracks)"
   ]
  },
  {
   "cell_type": "code",
   "execution_count": null,
   "metadata": {},
   "outputs": [],
   "source": [
    "code, response = apicall.fetchfromLibrary(item = 'playlists')\n",
    "listPlaylist = [[item['id'], item['name']] for item in response['playlists']]\n",
    "display(listPlaylist)"
   ]
  },
  {
   "cell_type": "code",
   "execution_count": null,
   "metadata": {},
   "outputs": [],
   "source": [
    "tracks_df = apicall.fetchPlaylist('mp.274088456')\n",
    "display(tracks_df)"
   ]
  },
  {
   "cell_type": "markdown",
   "metadata": {},
   "source": [
    "### Auswertung Favorites"
   ]
  },
  {
   "cell_type": "code",
   "execution_count": null,
   "metadata": {},
   "outputs": [],
   "source": [
    "favorites_df = pd.read_csv('favorites_2019-12-21.csv')\n",
    "\n",
    "# replace additions like \"(2009 Remix)\" or \"(Remastered 2016)\"\n",
    "# title all lowercase for better matching\n",
    "favorites_df['title'] = favorites_df['title'].replace(' \\([A-z,0-9 ]*\\)', value='', regex=True)\n",
    "favorites_df['title'] = favorites_df['title'].replace('[\\'\\?\\’]', value='', regex=True)\n",
    "favorites_df['title'] = favorites_df['title'].str.lower()\n",
    "\n",
    "# fetch all tracks which are not streamble \n",
    "unst_df = favorites_df[favorites_df['streamable'] == False]\n",
    "unst_df = unst_df.drop('streamable', 1)\n",
    "#print(unst_df)\n",
    "\n",
    "# fetch all substitutes aka double entries \n",
    "favorites_substitute_df = favorites_df[favorites_df.duplicated(subset = ['artist', 'title'], keep = 'last')]\n",
    "favorites_substitute_df = favorites_substitute_df[favorites_substitute_df['streamable'] == True]\n",
    "#print(favorites_substitute_df)\n",
    "#print(favorites_filtered_df[favorites_filtered_df['streamable'] == False])\n",
    "\n",
    "# cross check for a list of unstreamable track which were not replaced\n",
    "unst_df = unst_df.assign(Replaced=unst_df.title.isin(favorites_substitute_df.title))\n",
    "print(unst_df[unst_df['Replaced'] == False])"
   ]
  },
  {
   "cell_type": "code",
   "execution_count": null,
   "metadata": {},
   "outputs": [],
   "source": [
    "\n",
    "\n"
   ]
  }
 ],
 "metadata": {
  "kernelspec": {
   "display_name": "Python 3",
   "language": "python",
   "name": "python3"
  },
  "language_info": {
   "codemirror_mode": {
    "name": "ipython",
    "version": 3
   },
   "file_extension": ".py",
   "mimetype": "text/x-python",
   "name": "python",
   "nbconvert_exporter": "python",
   "pygments_lexer": "ipython3",
   "version": "3.7.5"
  }
 },
 "nbformat": 4,
 "nbformat_minor": 2
}
